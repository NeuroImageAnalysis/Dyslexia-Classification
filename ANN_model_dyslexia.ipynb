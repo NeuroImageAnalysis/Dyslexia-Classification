{
 "cells": [
  {
   "cell_type": "code",
   "execution_count": 1,
   "id": "2903f828",
   "metadata": {},
   "outputs": [],
   "source": [
    "# Import manipulating files libraries\n",
    "import os, glob\n",
    "os.environ[\"CUDA_DEVICE_ORDER\"] = \"PCI_BUS_ID\"   #if like me you do not have a lot of memory in your GPU\n",
    "os.environ[\"CUDA_VISIBLE_DEVICES\"] = \"\" #then these two lines force keras to use your CPU\n",
    "# Import graph/image plotting libraries\n",
    "import matplotlib.pyplot as plt\n",
    "import seaborn as sns\n",
    "sns.set(style=\"darkgrid\")\n",
    "\n",
    "# Import loading and manipulating neuroimaging data library\n",
    "import nibabel as nib\n",
    "\n",
    "# Import array manipulating libraries\n",
    "import numpy as np\n",
    "import pandas as pd\n",
    "\n",
    "# Import deep learning model libraries\n",
    "import tensorflow as tf\n",
    "import keras\n",
    "from keras.models import Model, Sequential\n",
    "\n",
    "from keras import backend as K\n",
    "from keras.callbacks import ModelCheckpoint\n",
    "from keras.models import load_model\n",
    "\n",
    "# Import date/time library to save models with date/time\n",
    "from datetime import datetime"
   ]
  },
  {
   "cell_type": "code",
   "execution_count": 2,
   "id": "0c892069",
   "metadata": {},
   "outputs": [],
   "source": [
    "# Get data path\n",
    "data_path = 'final data/*.nii.gz'\n",
    "# Find all files within the location that matches our search string\n",
    "files = glob.glob(data_path)\n",
    "\n",
    "# Get the labels for our data from our csv file\n",
    "Labels = pd.read_csv('labels.csv')\n",
    "# Define our target from the column \"Labels\" as our y in our model\n",
    "target = Labels['group']"
   ]
  },
  {
   "cell_type": "code",
   "execution_count": 3,
   "id": "fe759242",
   "metadata": {},
   "outputs": [
    {
     "name": "stdout",
     "output_type": "stream",
     "text": [
      "120\n",
      "(120, 64, 64, 34)\n"
     ]
    }
   ],
   "source": [
    "# Loop through files and load all data files\n",
    "data_all, images = [], []\n",
    "for data_file in sorted(files):\n",
    "    data = nib.load(data_file).get_fdata()\n",
    "    first_vol = data[:,:,:,0]\n",
    "    first = first_vol / 255\n",
    "    data_all.append(first)\n",
    "    \n",
    "# Convert our list into a numpy array\n",
    "images = np.asarray(data_all)\n",
    "\n",
    "print(len(data_all))\n",
    "print (np.shape(images))"
   ]
  },
  {
   "cell_type": "code",
   "execution_count": 4,
   "id": "2115f42a",
   "metadata": {},
   "outputs": [
    {
     "name": "stdout",
     "output_type": "stream",
     "text": [
      "[[[0.         0.         0.         ... 0.         0.         0.        ]\n",
      "  [0.         0.         0.         ... 0.         0.         0.        ]\n",
      "  [0.         0.         0.         ... 0.         0.         0.        ]\n",
      "  ...\n",
      "  [0.         0.         0.         ... 0.         0.         0.        ]\n",
      "  [0.         0.         0.         ... 0.         0.         0.        ]\n",
      "  [0.         0.         0.         ... 0.         0.         0.        ]]\n",
      "\n",
      " [[0.03921569 0.04705882 0.05098039 ... 0.03529412 0.04313725 0.03137255]\n",
      "  [0.03921569 0.03529412 0.05098039 ... 0.04313725 0.03529412 0.04313725]\n",
      "  [0.04705882 0.05098039 0.04313725 ... 0.05098039 0.03529412 0.04313725]\n",
      "  ...\n",
      "  [0.0745098  0.09411765 0.10196078 ... 0.05882353 0.05098039 0.05882353]\n",
      "  [0.08235294 0.06666667 0.09411765 ... 0.05098039 0.05098039 0.05490196]\n",
      "  [0.07058824 0.0745098  0.09019608 ... 0.05490196 0.05490196 0.05882353]]\n",
      "\n",
      " [[0.03921569 0.05098039 0.06666667 ... 0.05098039 0.03921569 0.03921569]\n",
      "  [0.04705882 0.05490196 0.05882353 ... 0.05098039 0.04705882 0.04313725]\n",
      "  [0.04705882 0.05098039 0.05098039 ... 0.04313725 0.04313725 0.04313725]\n",
      "  ...\n",
      "  [0.08627451 0.07058824 0.08627451 ... 0.05490196 0.06666667 0.05098039]\n",
      "  [0.07843137 0.09411765 0.07843137 ... 0.05882353 0.05098039 0.05882353]\n",
      "  [0.06666667 0.07058824 0.09019608 ... 0.05882353 0.05882353 0.05490196]]\n",
      "\n",
      " ...\n",
      "\n",
      " [[0.05098039 0.05490196 0.05490196 ... 0.02745098 0.03529412 0.03921569]\n",
      "  [0.04705882 0.05490196 0.04705882 ... 0.03137255 0.03137255 0.03137255]\n",
      "  [0.05490196 0.05882353 0.05490196 ... 0.03137255 0.03137255 0.01960784]\n",
      "  ...\n",
      "  [0.09411765 0.07843137 0.09411765 ... 0.05490196 0.0627451  0.05882353]\n",
      "  [0.08627451 0.0627451  0.09411765 ... 0.0627451  0.05882353 0.05490196]\n",
      "  [0.07058824 0.0745098  0.08235294 ... 0.0627451  0.05098039 0.0627451 ]]\n",
      "\n",
      " [[0.04705882 0.03921569 0.04313725 ... 0.03137255 0.03137255 0.03137255]\n",
      "  [0.05098039 0.05098039 0.04705882 ... 0.02352941 0.03137255 0.02745098]\n",
      "  [0.05098039 0.05098039 0.05882353 ... 0.03529412 0.03529412 0.02745098]\n",
      "  ...\n",
      "  [0.07843137 0.07843137 0.08627451 ... 0.04705882 0.05882353 0.05882353]\n",
      "  [0.07843137 0.09803922 0.08235294 ... 0.0627451  0.0627451  0.05490196]\n",
      "  [0.08627451 0.07058824 0.09803922 ... 0.0627451  0.05490196 0.0627451 ]]\n",
      "\n",
      " [[0.04705882 0.04705882 0.04313725 ... 0.03529412 0.02745098 0.03137255]\n",
      "  [0.05098039 0.04705882 0.05490196 ... 0.03529412 0.03137255 0.02352941]\n",
      "  [0.05882353 0.05098039 0.05490196 ... 0.03529412 0.02745098 0.03137255]\n",
      "  ...\n",
      "  [0.08235294 0.07058824 0.09803922 ... 0.06666667 0.07058824 0.05490196]\n",
      "  [0.07843137 0.08627451 0.0745098  ... 0.05882353 0.05882353 0.05490196]\n",
      "  [0.08235294 0.07843137 0.07058824 ... 0.05882353 0.05098039 0.05882353]]]\n"
     ]
    }
   ],
   "source": [
    "print(images[3])"
   ]
  },
  {
   "cell_type": "code",
   "execution_count": 5,
   "id": "f637a95c",
   "metadata": {},
   "outputs": [
    {
     "data": {
      "text/plain": [
       "<bound method NDFrame.head of 0      0\n",
       "1      0\n",
       "2      0\n",
       "3      0\n",
       "4      0\n",
       "      ..\n",
       "115    1\n",
       "116    1\n",
       "117    1\n",
       "118    1\n",
       "119    1\n",
       "Name: group, Length: 120, dtype: int64>"
      ]
     },
     "execution_count": 5,
     "metadata": {},
     "output_type": "execute_result"
    }
   ],
   "source": [
    "target.head"
   ]
  },
  {
   "cell_type": "code",
   "execution_count": 6,
   "id": "6fca8967",
   "metadata": {},
   "outputs": [
    {
     "name": "stdout",
     "output_type": "stream",
     "text": [
      "(84, 64, 64, 34) (18, 64, 64, 34) (18, 64, 64, 34)\n"
     ]
    }
   ],
   "source": [
    "# Create list of indices\n",
    "N = images.shape[0]\n",
    "indexes = np.arange(N)\n",
    "\n",
    "# Divide our dataset into dyslexics and controls to have a balanced train, validation and test sets\n",
    "dis = indexes[:60]\n",
    "con = indexes[60:]\n",
    "\n",
    "#  Cut the dataset at 80% to create the training, 10% validation and 10% test set\n",
    "size = dis.shape[0]\n",
    "split_1 = int(0.7 * size)\n",
    "split_2 = int(0.85 * size)\n",
    "\n",
    "# Shuffle our dyslexics and controls arrays to create random indexes\n",
    "np.random.shuffle(np.asarray(dis))\n",
    "np.random.shuffle(np.asarray(con))\n",
    "\n",
    "# Create our indexes for our train, validation and test sets according to our previous division (80%, 10%, 10%)\n",
    "indexes_train_dis, indexes_train_con = dis[:split_1], con[:split_1]\n",
    "indexes_val_dis, indexes_val_con   = dis[split_1:split_2], con[split_1:split_2]\n",
    "indexes_test_dis, indexes_test_con = dis[split_2:], con[split_2:]\n",
    "\n",
    "# We concatenate our training, validation and test indexes for dyslexics and controls\n",
    "# By doing that we ensure that each set is balanced with the same number of dyslexics and controls\n",
    "indexes_train = np.concatenate((indexes_train_dis, indexes_train_con), axis=None)\n",
    "indexes_val = np.concatenate((indexes_val_dis, indexes_val_con), axis=None)\n",
    "indexes_test = np.concatenate((indexes_test_dis, indexes_test_con), axis=None)\n",
    "\n",
    "\n",
    "# Split the data into training, validation and test sets according to the indexes created previously\n",
    "X_train = images[indexes_train, ...]\n",
    "X_val = images[indexes_val, ...]\n",
    "X_test = images[indexes_test, ...]\n",
    "print(X_train.shape, X_val.shape,X_test.shape)"
   ]
  },
  {
   "cell_type": "code",
   "execution_count": 7,
   "id": "15402b91",
   "metadata": {},
   "outputs": [
    {
     "name": "stdout",
     "output_type": "stream",
     "text": [
      "(42,) (42,)\n",
      "(9,) (9,)\n",
      "(9,) (9,)\n"
     ]
    }
   ],
   "source": [
    "print(indexes_train_dis.shape, indexes_train_con.shape)\n",
    "print(indexes_val_dis.shape, indexes_val_con.shape)\n",
    "print(indexes_test_dis.shape, indexes_test_con.shape)"
   ]
  },
  {
   "cell_type": "code",
   "execution_count": 8,
   "id": "87cb937d",
   "metadata": {},
   "outputs": [
    {
     "name": "stdout",
     "output_type": "stream",
     "text": [
      "(84, 64, 64, 34)\n",
      "(18, 64, 64, 34)\n",
      "(18, 64, 64, 34)\n",
      "(84,)\n",
      "(18,)\n",
      "(18,)\n"
     ]
    }
   ],
   "source": [
    "# Create outcome variable for each set (training, validation and test)\n",
    "y_train = target[indexes_train] \n",
    "y_val   = target[indexes_val]\n",
    "y_test  = target[indexes_test]\n",
    "print(X_train.shape)\n",
    "print(X_val.shape)\n",
    "print(X_test.shape)\n",
    "print(y_train.shape)\n",
    "print(y_val.shape)\n",
    "print(y_test.shape)"
   ]
  },
  {
   "cell_type": "code",
   "execution_count": 9,
   "id": "f600a15e",
   "metadata": {},
   "outputs": [],
   "source": [
    "# Our vectorized labels\n",
    "y_train = np.asarray(y_train).astype('int32')\n",
    "y_test = np.asarray(y_test).astype('int32')\n",
    "y_val = np.asarray(y_val).astype('int32')"
   ]
  },
  {
   "cell_type": "code",
   "execution_count": 10,
   "id": "f6362692",
   "metadata": {},
   "outputs": [
    {
     "name": "stdout",
     "output_type": "stream",
     "text": [
      "tf.Tensor(\n",
      "[[1. 0.]\n",
      " [1. 0.]\n",
      " [1. 0.]\n",
      " [1. 0.]\n",
      " [1. 0.]\n",
      " [1. 0.]\n",
      " [1. 0.]\n",
      " [1. 0.]\n",
      " [1. 0.]\n",
      " [0. 1.]\n",
      " [0. 1.]\n",
      " [0. 1.]\n",
      " [0. 1.]\n",
      " [0. 1.]\n",
      " [0. 1.]\n",
      " [0. 1.]\n",
      " [0. 1.]\n",
      " [0. 1.]], shape=(18, 2), dtype=float32)\n"
     ]
    }
   ],
   "source": [
    "y_train = tf.one_hot(y_train, 2)\n",
    "y_test = tf.one_hot(y_test, 2)\n",
    "y_val = tf.one_hot(y_val, 2)\n",
    "print(y_val) "
   ]
  },
  {
   "cell_type": "code",
   "execution_count": 11,
   "id": "834f2152",
   "metadata": {},
   "outputs": [
    {
     "name": "stdout",
     "output_type": "stream",
     "text": [
      "(84, 139264)\n",
      "(18, 139264)\n",
      "(18, 139264)\n"
     ]
    }
   ],
   "source": [
    "x_train = X_train.reshape(len(X_train), -1)\n",
    "print(x_train.shape)\n",
    "x_test = X_test.reshape(len(X_test), -1)\n",
    "print(x_test.shape)\n",
    "x_val = X_val.reshape(len(X_val), -1)\n",
    "print(x_val.shape)"
   ]
  },
  {
   "cell_type": "code",
   "execution_count": 12,
   "id": "2bf861ad",
   "metadata": {},
   "outputs": [
    {
     "data": {
      "text/plain": [
       "<tf.Tensor: shape=(84, 2), dtype=float32, numpy=\n",
       "array([[1., 0.],\n",
       "       [1., 0.],\n",
       "       [1., 0.],\n",
       "       [1., 0.],\n",
       "       [1., 0.],\n",
       "       [1., 0.],\n",
       "       [1., 0.],\n",
       "       [1., 0.],\n",
       "       [1., 0.],\n",
       "       [1., 0.],\n",
       "       [1., 0.],\n",
       "       [1., 0.],\n",
       "       [1., 0.],\n",
       "       [1., 0.],\n",
       "       [1., 0.],\n",
       "       [1., 0.],\n",
       "       [1., 0.],\n",
       "       [1., 0.],\n",
       "       [1., 0.],\n",
       "       [1., 0.],\n",
       "       [1., 0.],\n",
       "       [1., 0.],\n",
       "       [1., 0.],\n",
       "       [1., 0.],\n",
       "       [1., 0.],\n",
       "       [1., 0.],\n",
       "       [1., 0.],\n",
       "       [1., 0.],\n",
       "       [1., 0.],\n",
       "       [1., 0.],\n",
       "       [1., 0.],\n",
       "       [1., 0.],\n",
       "       [1., 0.],\n",
       "       [1., 0.],\n",
       "       [1., 0.],\n",
       "       [1., 0.],\n",
       "       [1., 0.],\n",
       "       [1., 0.],\n",
       "       [1., 0.],\n",
       "       [1., 0.],\n",
       "       [1., 0.],\n",
       "       [1., 0.],\n",
       "       [0., 1.],\n",
       "       [0., 1.],\n",
       "       [0., 1.],\n",
       "       [0., 1.],\n",
       "       [0., 1.],\n",
       "       [0., 1.],\n",
       "       [0., 1.],\n",
       "       [0., 1.],\n",
       "       [0., 1.],\n",
       "       [0., 1.],\n",
       "       [0., 1.],\n",
       "       [0., 1.],\n",
       "       [0., 1.],\n",
       "       [0., 1.],\n",
       "       [0., 1.],\n",
       "       [0., 1.],\n",
       "       [0., 1.],\n",
       "       [0., 1.],\n",
       "       [0., 1.],\n",
       "       [0., 1.],\n",
       "       [0., 1.],\n",
       "       [0., 1.],\n",
       "       [0., 1.],\n",
       "       [0., 1.],\n",
       "       [0., 1.],\n",
       "       [0., 1.],\n",
       "       [0., 1.],\n",
       "       [0., 1.],\n",
       "       [0., 1.],\n",
       "       [0., 1.],\n",
       "       [0., 1.],\n",
       "       [0., 1.],\n",
       "       [0., 1.],\n",
       "       [0., 1.],\n",
       "       [0., 1.],\n",
       "       [0., 1.],\n",
       "       [0., 1.],\n",
       "       [0., 1.],\n",
       "       [0., 1.],\n",
       "       [0., 1.],\n",
       "       [0., 1.],\n",
       "       [0., 1.]], dtype=float32)>"
      ]
     },
     "execution_count": 12,
     "metadata": {},
     "output_type": "execute_result"
    }
   ],
   "source": [
    "y_train"
   ]
  },
  {
   "cell_type": "code",
   "execution_count": 13,
   "id": "c4fc1b72",
   "metadata": {},
   "outputs": [],
   "source": [
    "from sklearn.preprocessing import StandardScaler\n",
    "\n",
    "sc = StandardScaler()\n",
    "x_train1 = sc.fit_transform(x_train)\n",
    "x_test1 = sc.transform(x_test)\n",
    "x_val1 = sc.transform(x_val)"
   ]
  },
  {
   "cell_type": "code",
   "execution_count": 14,
   "id": "2aa21d6b",
   "metadata": {},
   "outputs": [
    {
     "data": {
      "text/plain": [
       "(84, 79)"
      ]
     },
     "execution_count": 14,
     "metadata": {},
     "output_type": "execute_result"
    }
   ],
   "source": [
    "from sklearn.decomposition import PCA\n",
    "\n",
    "pca = PCA(0.99)\n",
    "x_train1 = pca.fit_transform(x_train1)\n",
    "x_test1 = pca.transform(x_test1)\n",
    "x_val1 = pca.transform(x_val1)\n",
    "x_train1.shape"
   ]
  },
  {
   "cell_type": "code",
   "execution_count": 35,
   "id": "34876d95",
   "metadata": {},
   "outputs": [
    {
     "name": "stdout",
     "output_type": "stream",
     "text": [
      "Model: \"sequential_5\"\n",
      "_________________________________________________________________\n",
      " Layer (type)                Output Shape              Param #   \n",
      "=================================================================\n",
      " flatten_1 (Flatten)         (None, 79)                0         \n",
      "                                                                 \n",
      " dense_20 (Dense)            (None, 500)               40000     \n",
      "                                                                 \n",
      " dropout_3 (Dropout)         (None, 500)               0         \n",
      "                                                                 \n",
      " dense_21 (Dense)            (None, 500)               250500    \n",
      "                                                                 \n",
      " dropout_4 (Dropout)         (None, 500)               0         \n",
      "                                                                 \n",
      " dense_22 (Dense)            (None, 500)               250500    \n",
      "                                                                 \n",
      " dropout_5 (Dropout)         (None, 500)               0         \n",
      "                                                                 \n",
      " dense_23 (Dense)            (None, 2)                 1002      \n",
      "                                                                 \n",
      "=================================================================\n",
      "Total params: 542,002\n",
      "Trainable params: 542,002\n",
      "Non-trainable params: 0\n",
      "_________________________________________________________________\n",
      "Epoch 1/100\n",
      "7/7 [==============================] - 1s 72ms/step - loss: 2.5848 - accuracy: 0.4167 - val_loss: 0.7305 - val_accuracy: 0.6667\n",
      "Epoch 2/100\n",
      "7/7 [==============================] - 0s 18ms/step - loss: 1.4028 - accuracy: 0.7024 - val_loss: 0.4924 - val_accuracy: 0.8889\n",
      "Epoch 3/100\n",
      "7/7 [==============================] - 0s 18ms/step - loss: 1.1205 - accuracy: 0.7500 - val_loss: 0.1737 - val_accuracy: 0.9444\n",
      "Epoch 4/100\n",
      "7/7 [==============================] - 0s 19ms/step - loss: 0.9452 - accuracy: 0.7619 - val_loss: 0.1931 - val_accuracy: 0.9444\n",
      "Epoch 5/100\n",
      "7/7 [==============================] - 0s 17ms/step - loss: 0.4360 - accuracy: 0.9048 - val_loss: 0.2859 - val_accuracy: 0.8889\n",
      "Epoch 6/100\n",
      "7/7 [==============================] - 0s 18ms/step - loss: 0.3936 - accuracy: 0.8810 - val_loss: 0.3219 - val_accuracy: 0.8889\n",
      "Epoch 7/100\n",
      "7/7 [==============================] - 0s 18ms/step - loss: 0.5196 - accuracy: 0.9048 - val_loss: 0.2212 - val_accuracy: 0.8333\n",
      "Epoch 8/100\n",
      "7/7 [==============================] - 0s 20ms/step - loss: 0.1779 - accuracy: 0.9643 - val_loss: 0.1554 - val_accuracy: 0.9444\n",
      "Epoch 9/100\n",
      "7/7 [==============================] - 0s 17ms/step - loss: 0.1279 - accuracy: 0.9643 - val_loss: 0.2083 - val_accuracy: 0.9444\n",
      "Epoch 10/100\n",
      "7/7 [==============================] - 0s 17ms/step - loss: 0.0595 - accuracy: 0.9881 - val_loss: 0.3046 - val_accuracy: 0.9444\n",
      "Epoch 11/100\n",
      "7/7 [==============================] - 0s 18ms/step - loss: 0.1624 - accuracy: 0.9881 - val_loss: 0.3096 - val_accuracy: 0.9444\n",
      "Epoch 12/100\n",
      "7/7 [==============================] - 0s 15ms/step - loss: 0.0376 - accuracy: 1.0000 - val_loss: 0.2761 - val_accuracy: 0.9444\n",
      "Epoch 13/100\n",
      "7/7 [==============================] - 0s 14ms/step - loss: 0.0093 - accuracy: 1.0000 - val_loss: 0.2822 - val_accuracy: 0.9444\n",
      "Epoch 14/100\n",
      "7/7 [==============================] - 0s 18ms/step - loss: 0.0408 - accuracy: 0.9881 - val_loss: 0.2876 - val_accuracy: 0.9444\n",
      "Epoch 15/100\n",
      "7/7 [==============================] - 0s 18ms/step - loss: 0.0057 - accuracy: 1.0000 - val_loss: 0.2994 - val_accuracy: 0.9444\n",
      "Epoch 16/100\n",
      "7/7 [==============================] - 0s 18ms/step - loss: 0.0076 - accuracy: 1.0000 - val_loss: 0.2932 - val_accuracy: 0.8889\n",
      "Epoch 17/100\n",
      "7/7 [==============================] - 0s 17ms/step - loss: 0.0506 - accuracy: 0.9881 - val_loss: 0.2825 - val_accuracy: 0.8889\n",
      "Epoch 18/100\n",
      "7/7 [==============================] - 0s 18ms/step - loss: 0.0024 - accuracy: 1.0000 - val_loss: 0.2677 - val_accuracy: 0.8889\n",
      "Epoch 19/100\n",
      "7/7 [==============================] - 0s 18ms/step - loss: 0.0283 - accuracy: 0.9881 - val_loss: 0.2757 - val_accuracy: 0.9444\n",
      "Epoch 20/100\n",
      "7/7 [==============================] - 0s 18ms/step - loss: 2.3937e-04 - accuracy: 1.0000 - val_loss: 0.2924 - val_accuracy: 0.8889\n",
      "Epoch 21/100\n",
      "7/7 [==============================] - 0s 18ms/step - loss: 0.0198 - accuracy: 1.0000 - val_loss: 0.2897 - val_accuracy: 0.8889\n",
      "Epoch 22/100\n",
      "7/7 [==============================] - 0s 18ms/step - loss: 1.4460e-05 - accuracy: 1.0000 - val_loss: 0.2950 - val_accuracy: 0.8889\n",
      "Epoch 23/100\n",
      "7/7 [==============================] - 0s 18ms/step - loss: 0.0628 - accuracy: 0.9881 - val_loss: 0.3334 - val_accuracy: 0.8889\n",
      "Epoch 24/100\n",
      "7/7 [==============================] - 0s 17ms/step - loss: 0.0144 - accuracy: 1.0000 - val_loss: 0.3686 - val_accuracy: 0.9444\n",
      "Epoch 25/100\n",
      "7/7 [==============================] - 0s 19ms/step - loss: 2.3216e-05 - accuracy: 1.0000 - val_loss: 0.3917 - val_accuracy: 0.9444\n",
      "Epoch 26/100\n",
      "7/7 [==============================] - 0s 18ms/step - loss: 0.0021 - accuracy: 1.0000 - val_loss: 0.4033 - val_accuracy: 0.9444\n",
      "Epoch 27/100\n",
      "7/7 [==============================] - 0s 18ms/step - loss: 0.0671 - accuracy: 0.9762 - val_loss: 0.4224 - val_accuracy: 0.9444\n",
      "Epoch 28/100\n",
      "7/7 [==============================] - 0s 18ms/step - loss: 0.0293 - accuracy: 0.9881 - val_loss: 0.4306 - val_accuracy: 0.8889\n",
      "Epoch 29/100\n",
      "7/7 [==============================] - 0s 17ms/step - loss: 0.0503 - accuracy: 0.9762 - val_loss: 0.4262 - val_accuracy: 0.8889\n",
      "Epoch 30/100\n",
      "7/7 [==============================] - 0s 18ms/step - loss: 0.0026 - accuracy: 1.0000 - val_loss: 0.3831 - val_accuracy: 0.8889\n",
      "Epoch 31/100\n",
      "7/7 [==============================] - 0s 19ms/step - loss: 2.1887e-04 - accuracy: 1.0000 - val_loss: 0.3696 - val_accuracy: 0.8889\n",
      "Epoch 32/100\n",
      "7/7 [==============================] - 0s 18ms/step - loss: 0.0014 - accuracy: 1.0000 - val_loss: 0.3678 - val_accuracy: 0.8889\n",
      "Epoch 33/100\n",
      "7/7 [==============================] - 0s 18ms/step - loss: 0.0051 - accuracy: 1.0000 - val_loss: 0.3493 - val_accuracy: 0.8889\n",
      "Epoch 34/100\n",
      "7/7 [==============================] - 0s 18ms/step - loss: 3.2177e-05 - accuracy: 1.0000 - val_loss: 0.3363 - val_accuracy: 0.8889\n",
      "Epoch 35/100\n",
      "7/7 [==============================] - 0s 18ms/step - loss: 8.9220e-05 - accuracy: 1.0000 - val_loss: 0.3304 - val_accuracy: 0.8889\n",
      "Epoch 36/100\n",
      "7/7 [==============================] - 0s 18ms/step - loss: 0.0032 - accuracy: 1.0000 - val_loss: 0.3224 - val_accuracy: 0.8889\n",
      "Epoch 37/100\n",
      "7/7 [==============================] - 0s 19ms/step - loss: 0.0053 - accuracy: 1.0000 - val_loss: 0.3212 - val_accuracy: 0.8889\n",
      "Epoch 38/100\n",
      "7/7 [==============================] - 0s 18ms/step - loss: 0.0028 - accuracy: 1.0000 - val_loss: 0.3208 - val_accuracy: 0.9444\n",
      "Epoch 39/100\n",
      "7/7 [==============================] - 0s 18ms/step - loss: 0.0062 - accuracy: 1.0000 - val_loss: 0.3351 - val_accuracy: 0.9444\n",
      "Epoch 40/100\n",
      "7/7 [==============================] - 0s 18ms/step - loss: 0.0021 - accuracy: 1.0000 - val_loss: 0.4008 - val_accuracy: 0.9444\n",
      "Epoch 41/100\n",
      "7/7 [==============================] - 0s 17ms/step - loss: 3.6427e-04 - accuracy: 1.0000 - val_loss: 0.4306 - val_accuracy: 0.9444\n",
      "Epoch 42/100\n",
      "7/7 [==============================] - 0s 17ms/step - loss: 2.0536e-04 - accuracy: 1.0000 - val_loss: 0.4447 - val_accuracy: 0.9444\n",
      "Epoch 43/100\n",
      "7/7 [==============================] - 0s 17ms/step - loss: 0.0015 - accuracy: 1.0000 - val_loss: 0.4417 - val_accuracy: 0.9444\n",
      "Epoch 44/100\n",
      "7/7 [==============================] - 0s 19ms/step - loss: 3.1291e-05 - accuracy: 1.0000 - val_loss: 0.4328 - val_accuracy: 0.9444\n",
      "Epoch 45/100\n",
      "7/7 [==============================] - 0s 19ms/step - loss: 1.2262e-05 - accuracy: 1.0000 - val_loss: 0.4286 - val_accuracy: 0.9444\n",
      "Epoch 46/100\n",
      "7/7 [==============================] - 0s 18ms/step - loss: 2.4178e-05 - accuracy: 1.0000 - val_loss: 0.4266 - val_accuracy: 0.9444\n",
      "Epoch 47/100\n",
      "7/7 [==============================] - 0s 17ms/step - loss: 2.7155e-06 - accuracy: 1.0000 - val_loss: 0.4257 - val_accuracy: 0.9444\n",
      "Epoch 48/100\n"
     ]
    },
    {
     "name": "stdout",
     "output_type": "stream",
     "text": [
      "7/7 [==============================] - 0s 18ms/step - loss: 3.9296e-05 - accuracy: 1.0000 - val_loss: 0.4262 - val_accuracy: 0.9444\n",
      "Epoch 49/100\n",
      "7/7 [==============================] - 0s 19ms/step - loss: 0.0227 - accuracy: 0.9881 - val_loss: 0.4159 - val_accuracy: 0.9444\n",
      "Epoch 50/100\n",
      "7/7 [==============================] - 0s 19ms/step - loss: 0.0089 - accuracy: 1.0000 - val_loss: 0.3994 - val_accuracy: 0.8889\n",
      "Epoch 51/100\n",
      "7/7 [==============================] - 0s 17ms/step - loss: 5.7128e-05 - accuracy: 1.0000 - val_loss: 0.4730 - val_accuracy: 0.9444\n",
      "Epoch 52/100\n",
      "7/7 [==============================] - 0s 17ms/step - loss: 0.0097 - accuracy: 1.0000 - val_loss: 0.5118 - val_accuracy: 0.9444\n",
      "Epoch 53/100\n",
      "7/7 [==============================] - 0s 18ms/step - loss: 2.9500e-04 - accuracy: 1.0000 - val_loss: 0.6284 - val_accuracy: 0.9444\n",
      "Epoch 54/100\n",
      "7/7 [==============================] - 0s 20ms/step - loss: 1.0938e-04 - accuracy: 1.0000 - val_loss: 0.6954 - val_accuracy: 0.9444\n",
      "Epoch 55/100\n",
      "7/7 [==============================] - 0s 18ms/step - loss: 0.0662 - accuracy: 0.9881 - val_loss: 0.7018 - val_accuracy: 0.9444\n",
      "Epoch 56/100\n",
      "7/7 [==============================] - 0s 19ms/step - loss: 0.0043 - accuracy: 1.0000 - val_loss: 0.6767 - val_accuracy: 0.9444\n",
      "Epoch 57/100\n",
      "7/7 [==============================] - 0s 17ms/step - loss: 0.0020 - accuracy: 1.0000 - val_loss: 0.6700 - val_accuracy: 0.9444\n",
      "Epoch 58/100\n",
      "7/7 [==============================] - 0s 18ms/step - loss: 4.8256e-05 - accuracy: 1.0000 - val_loss: 0.6728 - val_accuracy: 0.9444\n",
      "Epoch 59/100\n",
      "7/7 [==============================] - 0s 18ms/step - loss: 1.5208e-07 - accuracy: 1.0000 - val_loss: 0.6748 - val_accuracy: 0.9444\n",
      "Epoch 60/100\n",
      "7/7 [==============================] - 0s 18ms/step - loss: 0.0113 - accuracy: 1.0000 - val_loss: 0.6869 - val_accuracy: 0.9444\n",
      "Epoch 61/100\n",
      "7/7 [==============================] - 0s 19ms/step - loss: 2.8434e-05 - accuracy: 1.0000 - val_loss: 0.6928 - val_accuracy: 0.9444\n",
      "Epoch 62/100\n",
      "7/7 [==============================] - 0s 18ms/step - loss: 9.0094e-05 - accuracy: 1.0000 - val_loss: 0.6946 - val_accuracy: 0.9444\n",
      "Epoch 63/100\n",
      "7/7 [==============================] - 0s 18ms/step - loss: 0.0922 - accuracy: 0.9881 - val_loss: 0.6518 - val_accuracy: 0.9444\n",
      "Epoch 64/100\n",
      "7/7 [==============================] - 0s 19ms/step - loss: 2.4607e-07 - accuracy: 1.0000 - val_loss: 0.6184 - val_accuracy: 0.9444\n",
      "Epoch 65/100\n",
      "7/7 [==============================] - 0s 19ms/step - loss: 0.1670 - accuracy: 0.9762 - val_loss: 0.7091 - val_accuracy: 0.9444\n",
      "Epoch 66/100\n",
      "7/7 [==============================] - 0s 18ms/step - loss: 5.2675e-04 - accuracy: 1.0000 - val_loss: 0.7812 - val_accuracy: 0.9444\n",
      "Epoch 67/100\n",
      "7/7 [==============================] - 0s 19ms/step - loss: 0.0575 - accuracy: 0.9881 - val_loss: 0.7988 - val_accuracy: 0.9444\n",
      "Epoch 68/100\n",
      "7/7 [==============================] - 0s 18ms/step - loss: 3.3548e-05 - accuracy: 1.0000 - val_loss: 0.7818 - val_accuracy: 0.9444\n",
      "Epoch 69/100\n",
      "7/7 [==============================] - 0s 17ms/step - loss: 0.0011 - accuracy: 1.0000 - val_loss: 0.7641 - val_accuracy: 0.9444\n",
      "Epoch 70/100\n",
      "7/7 [==============================] - 0s 18ms/step - loss: 2.2577e-07 - accuracy: 1.0000 - val_loss: 0.7502 - val_accuracy: 0.9444\n",
      "Epoch 71/100\n",
      "7/7 [==============================] - 0s 19ms/step - loss: 4.6172e-07 - accuracy: 1.0000 - val_loss: 0.7443 - val_accuracy: 0.9444\n",
      "Epoch 72/100\n",
      "7/7 [==============================] - 0s 19ms/step - loss: 0.0319 - accuracy: 0.9881 - val_loss: 0.7023 - val_accuracy: 0.9444\n",
      "Epoch 73/100\n",
      "7/7 [==============================] - 0s 20ms/step - loss: 1.3259e-04 - accuracy: 1.0000 - val_loss: 0.6730 - val_accuracy: 0.9444\n",
      "Epoch 74/100\n",
      "7/7 [==============================] - 0s 18ms/step - loss: 0.0032 - accuracy: 1.0000 - val_loss: 0.6861 - val_accuracy: 0.9444\n",
      "Epoch 75/100\n",
      "7/7 [==============================] - 0s 18ms/step - loss: 0.0240 - accuracy: 0.9881 - val_loss: 0.7951 - val_accuracy: 0.9444\n",
      "Epoch 76/100\n",
      "7/7 [==============================] - 0s 19ms/step - loss: 9.9957e-04 - accuracy: 1.0000 - val_loss: 0.8969 - val_accuracy: 0.9444\n",
      "Epoch 77/100\n",
      "7/7 [==============================] - 0s 18ms/step - loss: 3.2094e-05 - accuracy: 1.0000 - val_loss: 0.9488 - val_accuracy: 0.9444\n",
      "Epoch 78/100\n",
      "7/7 [==============================] - 0s 19ms/step - loss: 3.1085e-06 - accuracy: 1.0000 - val_loss: 0.9749 - val_accuracy: 0.9444\n",
      "Epoch 79/100\n",
      "7/7 [==============================] - 0s 17ms/step - loss: 0.0083 - accuracy: 0.9881 - val_loss: 0.9759 - val_accuracy: 0.9444\n",
      "Epoch 80/100\n",
      "7/7 [==============================] - 0s 17ms/step - loss: 8.1867e-05 - accuracy: 1.0000 - val_loss: 0.9289 - val_accuracy: 0.9444\n",
      "Epoch 81/100\n",
      "7/7 [==============================] - 0s 18ms/step - loss: 2.8047e-05 - accuracy: 1.0000 - val_loss: 0.9062 - val_accuracy: 0.9444\n",
      "Epoch 82/100\n",
      "7/7 [==============================] - 0s 19ms/step - loss: 2.1948e-05 - accuracy: 1.0000 - val_loss: 0.8947 - val_accuracy: 0.9444\n",
      "Epoch 83/100\n",
      "7/7 [==============================] - 0s 17ms/step - loss: 4.9421e-08 - accuracy: 1.0000 - val_loss: 0.8888 - val_accuracy: 0.9444\n",
      "Epoch 84/100\n",
      "7/7 [==============================] - 0s 18ms/step - loss: 2.8208e-07 - accuracy: 1.0000 - val_loss: 0.8861 - val_accuracy: 0.9444\n",
      "Epoch 85/100\n",
      "7/7 [==============================] - 0s 17ms/step - loss: 0.0295 - accuracy: 0.9881 - val_loss: 0.8248 - val_accuracy: 0.9444\n",
      "Epoch 86/100\n",
      "7/7 [==============================] - 0s 17ms/step - loss: 2.0902e-04 - accuracy: 1.0000 - val_loss: 0.7821 - val_accuracy: 0.9444\n",
      "Epoch 87/100\n",
      "7/7 [==============================] - 0s 17ms/step - loss: 6.1095e-07 - accuracy: 1.0000 - val_loss: 0.7734 - val_accuracy: 0.9444\n",
      "Epoch 88/100\n",
      "7/7 [==============================] - 0s 17ms/step - loss: 1.8943e-04 - accuracy: 1.0000 - val_loss: 0.7729 - val_accuracy: 0.9444\n",
      "Epoch 89/100\n",
      "7/7 [==============================] - 0s 18ms/step - loss: 8.9262e-05 - accuracy: 1.0000 - val_loss: 0.7736 - val_accuracy: 0.9444\n",
      "Epoch 90/100\n",
      "7/7 [==============================] - 0s 16ms/step - loss: 0.0205 - accuracy: 1.0000 - val_loss: 0.8569 - val_accuracy: 0.9444\n",
      "Epoch 91/100\n",
      "7/7 [==============================] - 0s 17ms/step - loss: 1.5125e-04 - accuracy: 1.0000 - val_loss: 0.9261 - val_accuracy: 0.9444\n",
      "Epoch 92/100\n",
      "7/7 [==============================] - 0s 19ms/step - loss: 1.0020e-07 - accuracy: 1.0000 - val_loss: 0.9586 - val_accuracy: 0.9444\n",
      "Epoch 93/100\n",
      "7/7 [==============================] - 0s 18ms/step - loss: 1.1562e-09 - accuracy: 1.0000 - val_loss: 0.9745 - val_accuracy: 0.9444\n",
      "Epoch 94/100\n",
      "7/7 [==============================] - 0s 18ms/step - loss: 2.6155e-05 - accuracy: 1.0000 - val_loss: 0.9819 - val_accuracy: 0.9444\n",
      "Epoch 95/100\n",
      "7/7 [==============================] - 0s 18ms/step - loss: 0.0728 - accuracy: 0.9881 - val_loss: 0.8384 - val_accuracy: 0.9444\n",
      "Epoch 96/100\n",
      "7/7 [==============================] - 0s 17ms/step - loss: 9.2901e-04 - accuracy: 1.0000 - val_loss: 0.8093 - val_accuracy: 0.8889\n",
      "Epoch 97/100\n",
      "7/7 [==============================] - 0s 18ms/step - loss: 0.0015 - accuracy: 1.0000 - val_loss: 0.8614 - val_accuracy: 0.8889\n",
      "Epoch 98/100\n",
      "7/7 [==============================] - 0s 16ms/step - loss: 8.5898e-06 - accuracy: 1.0000 - val_loss: 0.8870 - val_accuracy: 0.8889\n",
      "Epoch 99/100\n",
      "7/7 [==============================] - 0s 18ms/step - loss: 4.8018e-07 - accuracy: 1.0000 - val_loss: 0.8994 - val_accuracy: 0.8889\n",
      "Epoch 100/100\n",
      "7/7 [==============================] - 0s 16ms/step - loss: 0.0036 - accuracy: 1.0000 - val_loss: 0.9197 - val_accuracy: 0.8889\n"
     ]
    },
    {
     "data": {
      "text/plain": [
       "<keras.callbacks.History at 0x21deaa682e0>"
      ]
     },
     "execution_count": 35,
     "metadata": {},
     "output_type": "execute_result"
    }
   ],
   "source": [
    "#ANN code\n",
    "\n",
    "model = keras.Sequential([\n",
    "    keras.layers.Flatten(input_shape= x_train1[0].shape),\n",
    "    keras.layers.Dense(500, kernel_initializer= \"uniform\",  activation='relu'),\n",
    "    keras.layers.Dropout(0.5),\n",
    "    keras.layers.Dense(500, kernel_initializer= \"uniform\", activation='relu'),\n",
    "    keras.layers.Dropout(0.5),\n",
    "    keras.layers.Dense(500, kernel_initializer= \"uniform\", activation='relu'),\n",
    "    keras.layers.Dropout(0.5),\n",
    "    keras.layers.Dense(2, activation='softmax')\n",
    "])\n",
    "\n",
    "model.compile(\n",
    "    optimizer = 'adam',\n",
    "    loss='binary_crossentropy',\n",
    "    metrics=['accuracy']\n",
    ")\n",
    "\n",
    "\n",
    "model.summary()\n",
    "model.fit(x_train1, y_train, validation_data=(x_val1, y_val) ,epochs=100, batch_size=12)"
   ]
  },
  {
   "cell_type": "code",
   "execution_count": 36,
   "id": "baf7ee3a",
   "metadata": {},
   "outputs": [
    {
     "name": "stdout",
     "output_type": "stream",
     "text": [
      "1/1 [==============================] - 0s 55ms/step - loss: 1.1884 - accuracy: 0.8333\n"
     ]
    },
    {
     "data": {
      "text/plain": [
       "[1.18844473361969, 0.8333333134651184]"
      ]
     },
     "execution_count": 36,
     "metadata": {},
     "output_type": "execute_result"
    }
   ],
   "source": [
    "model.evaluate(x_test1, y_test)"
   ]
  },
  {
   "cell_type": "code",
   "execution_count": 21,
   "id": "e72dc3d2",
   "metadata": {},
   "outputs": [
    {
     "name": "stdout",
     "output_type": "stream",
     "text": [
      "1/1 [==============================] - 0s 44ms/step\n"
     ]
    },
    {
     "data": {
      "text/plain": [
       "array([[9.8533869e-01, 1.4661340e-02],\n",
       "       [1.0000000e+00, 2.7602438e-09],\n",
       "       [1.0545173e-06, 9.9999893e-01],\n",
       "       [1.0000000e+00, 9.7391116e-11],\n",
       "       [1.0000000e+00, 1.1278868e-08],\n",
       "       [1.0000000e+00, 6.6596766e-14],\n",
       "       [9.9999964e-01, 3.3408853e-07],\n",
       "       [9.9999964e-01, 3.4934197e-07],\n",
       "       [1.0000000e+00, 3.6643971e-08],\n",
       "       [7.8410714e-08, 9.9999988e-01],\n",
       "       [9.6702343e-01, 3.2976545e-02],\n",
       "       [1.1232346e-06, 9.9999893e-01],\n",
       "       [2.5363481e-06, 9.9999750e-01],\n",
       "       [5.6113925e-10, 1.0000000e+00],\n",
       "       [6.1028800e-09, 1.0000000e+00],\n",
       "       [5.5772173e-13, 1.0000000e+00],\n",
       "       [9.0530813e-01, 9.4691843e-02],\n",
       "       [1.2194339e-06, 9.9999881e-01]], dtype=float32)"
      ]
     },
     "execution_count": 21,
     "metadata": {},
     "output_type": "execute_result"
    }
   ],
   "source": [
    "# Analyze prediction values\n",
    "\n",
    "\n",
    "\n",
    "predicted = model.predict(x_test1)\n",
    "predicted[:,:]"
   ]
  },
  {
   "cell_type": "code",
   "execution_count": 22,
   "id": "c06cdfc0",
   "metadata": {},
   "outputs": [
    {
     "name": "stdout",
     "output_type": "stream",
     "text": [
      "1/1 [==============================] - 0s 17ms/step\n",
      "              precision    recall  f1-score   support\n",
      "\n",
      "           0       0.80      0.89      0.84         9\n",
      "           1       0.88      0.78      0.82         9\n",
      "\n",
      "    accuracy                           0.83        18\n",
      "   macro avg       0.84      0.83      0.83        18\n",
      "weighted avg       0.84      0.83      0.83        18\n",
      "\n"
     ]
    }
   ],
   "source": [
    "# Import confusion matrix and classification report from scikit-learn\n",
    "from sklearn.metrics import confusion_matrix, classification_report\n",
    "Y_prediction = model.predict(x_test1)\n",
    "# Convert predictions classes to one hot vectors \n",
    "Y_pred_classes = np.argmax(predicted,axis = 1) \n",
    "# compute the confusion matrix\n",
    "confusion_mtx = confusion_matrix(target[indexes_test], Y_pred_classes) \n",
    "print(classification_report(target[indexes_test], Y_pred_classes))"
   ]
  },
  {
   "cell_type": "code",
   "execution_count": 23,
   "id": "b3821cc9",
   "metadata": {},
   "outputs": [
    {
     "data": {
      "image/png": "[encoded data removed]",
      "text/plain": [
       "<Figure size 1000x800 with 2 Axes>"
      ]
     },
     "metadata": {},
     "output_type": "display_data"
    }
   ],
   "source": [
    "# Plot confusion matrix\n",
    "plt.figure(figsize=(10,8))\n",
    "sns.heatmap(confusion_mtx, annot=True, fmt=\"d\");"
   ]
  },
  {
   "cell_type": "code",
   "execution_count": 24,
   "id": "82a2767c",
   "metadata": {},
   "outputs": [
    {
     "data": {
      "text/plain": [
       "<tf.Tensor: shape=(18, 2), dtype=float32, numpy=\n",
       "array([[1., 0.],\n",
       "       [1., 0.],\n",
       "       [1., 0.],\n",
       "       [1., 0.],\n",
       "       [1., 0.],\n",
       "       [1., 0.],\n",
       "       [1., 0.],\n",
       "       [1., 0.],\n",
       "       [1., 0.],\n",
       "       [0., 1.],\n",
       "       [0., 1.],\n",
       "       [0., 1.],\n",
       "       [0., 1.],\n",
       "       [0., 1.],\n",
       "       [0., 1.],\n",
       "       [0., 1.],\n",
       "       [0., 1.],\n",
       "       [0., 1.]], dtype=float32)>"
      ]
     },
     "execution_count": 24,
     "metadata": {},
     "output_type": "execute_result"
    }
   ],
   "source": [
    "y_test"
   ]
  },
  {
   "cell_type": "code",
   "execution_count": 25,
   "id": "63b7bd4c",
   "metadata": {},
   "outputs": [
    {
     "data": {
      "image/png": "[encoded data removed]",
      "text/plain": [
       "<Figure size 640x480 with 1 Axes>"
      ]
     },
     "metadata": {},
     "output_type": "display_data"
    }
   ],
   "source": [
    "from sklearn import metrics\n",
    "\n",
    "fpr, tpr, thresholds = metrics.roc_curve(np.argmax(y_test, axis =1), np.argmax(predicted, axis =1), pos_label=1)\n",
    "roc_auc = metrics.auc(fpr, tpr)\n",
    "\n",
    "lw = 2\n",
    "plt.figure()\n",
    "plt.plot([0, 1], [0, 1], color='navy', lw=lw, linestyle='--', alpha=0.15)\n",
    "plt.plot(fpr, tpr, lw=lw, label=f'ROC curve (area = {roc_auc: 0.2f})')\n",
    "\n",
    "plt.xlabel('False Positive Rate')\n",
    "plt.ylabel('True Positive Rate')\n",
    "plt.title(f'Receiver Operating Characteristic')\n",
    "plt.legend(loc=\"lower right\")\n",
    "plt.show()"
   ]
  },
  {
   "cell_type": "code",
   "execution_count": 29,
   "id": "3a199bab",
   "metadata": {},
   "outputs": [
    {
     "name": "stderr",
     "output_type": "stream",
     "text": [
      "C:\\Users\\achin\\AppData\\Roaming\\Python\\Python310\\site-packages\\sklearn\\utils\\deprecation.py:87: FutureWarning: Function plot_roc_curve is deprecated; Function :func:`plot_roc_curve` is deprecated in 1.0 and will be removed in 1.2. Use one of the class methods: :meth:`sklearn.metrics.RocCurveDisplay.from_predictions` or :meth:`sklearn.metrics.RocCurveDisplay.from_estimator`.\n",
      "  warnings.warn(msg, category=FutureWarning)\n"
     ]
    },
    {
     "ename": "ValueError",
     "evalue": "Expected 'estimator' to be a binary classifier, but got Sequential",
     "output_type": "error",
     "traceback": [
      "\u001b[1;31m---------------------------------------------------------------------------\u001b[0m",
      "\u001b[1;31mValueError\u001b[0m                                Traceback (most recent call last)",
      "Cell \u001b[1;32mIn [29], line 1\u001b[0m\n\u001b[1;32m----> 1\u001b[0m \u001b[43mplot_roc_curve\u001b[49m\u001b[43m(\u001b[49m\u001b[43mmodel\u001b[49m\u001b[43m,\u001b[49m\u001b[43m \u001b[49m\u001b[43mx_test1\u001b[49m\u001b[43m,\u001b[49m\u001b[43m \u001b[49m\u001b[43my_test\u001b[49m\u001b[43m)\u001b[49m\n",
      "File \u001b[1;32m~\\AppData\\Roaming\\Python\\Python310\\site-packages\\sklearn\\utils\\deprecation.py:88\u001b[0m, in \u001b[0;36mdeprecated._decorate_fun.<locals>.wrapped\u001b[1;34m(*args, **kwargs)\u001b[0m\n\u001b[0;32m     85\u001b[0m \u001b[38;5;129m@functools\u001b[39m\u001b[38;5;241m.\u001b[39mwraps(fun)\n\u001b[0;32m     86\u001b[0m \u001b[38;5;28;01mdef\u001b[39;00m \u001b[38;5;21mwrapped\u001b[39m(\u001b[38;5;241m*\u001b[39margs, \u001b[38;5;241m*\u001b[39m\u001b[38;5;241m*\u001b[39mkwargs):\n\u001b[0;32m     87\u001b[0m     warnings\u001b[38;5;241m.\u001b[39mwarn(msg, category\u001b[38;5;241m=\u001b[39m\u001b[38;5;167;01mFutureWarning\u001b[39;00m)\n\u001b[1;32m---> 88\u001b[0m     \u001b[38;5;28;01mreturn\u001b[39;00m fun(\u001b[38;5;241m*\u001b[39margs, \u001b[38;5;241m*\u001b[39m\u001b[38;5;241m*\u001b[39mkwargs)\n",
      "File \u001b[1;32m~\\AppData\\Roaming\\Python\\Python310\\site-packages\\sklearn\\metrics\\_plot\\roc_curve.py:451\u001b[0m, in \u001b[0;36mplot_roc_curve\u001b[1;34m(estimator, X, y, sample_weight, drop_intermediate, response_method, name, ax, pos_label, **kwargs)\u001b[0m\n\u001b[0;32m    371\u001b[0m \u001b[38;5;124;03m\"\"\"Plot Receiver operating characteristic (ROC) curve.\u001b[39;00m\n\u001b[0;32m    372\u001b[0m \n\u001b[0;32m    373\u001b[0m \u001b[38;5;124;03mExtra keyword arguments will be passed to matplotlib's `plot`.\u001b[39;00m\n\u001b[1;32m   (...)\u001b[0m\n\u001b[0;32m    447\u001b[0m \u001b[38;5;124;03m>>> plt.show()\u001b[39;00m\n\u001b[0;32m    448\u001b[0m \u001b[38;5;124;03m\"\"\"\u001b[39;00m\n\u001b[0;32m    449\u001b[0m check_matplotlib_support(\u001b[38;5;124m\"\u001b[39m\u001b[38;5;124mplot_roc_curve\u001b[39m\u001b[38;5;124m\"\u001b[39m)\n\u001b[1;32m--> 451\u001b[0m y_pred, pos_label \u001b[38;5;241m=\u001b[39m \u001b[43m_get_response\u001b[49m\u001b[43m(\u001b[49m\n\u001b[0;32m    452\u001b[0m \u001b[43m    \u001b[49m\u001b[43mX\u001b[49m\u001b[43m,\u001b[49m\u001b[43m \u001b[49m\u001b[43mestimator\u001b[49m\u001b[43m,\u001b[49m\u001b[43m \u001b[49m\u001b[43mresponse_method\u001b[49m\u001b[43m,\u001b[49m\u001b[43m \u001b[49m\u001b[43mpos_label\u001b[49m\u001b[38;5;241;43m=\u001b[39;49m\u001b[43mpos_label\u001b[49m\n\u001b[0;32m    453\u001b[0m \u001b[43m\u001b[49m\u001b[43m)\u001b[49m\n\u001b[0;32m    455\u001b[0m fpr, tpr, _ \u001b[38;5;241m=\u001b[39m roc_curve(\n\u001b[0;32m    456\u001b[0m     y,\n\u001b[0;32m    457\u001b[0m     y_pred,\n\u001b[1;32m   (...)\u001b[0m\n\u001b[0;32m    460\u001b[0m     drop_intermediate\u001b[38;5;241m=\u001b[39mdrop_intermediate,\n\u001b[0;32m    461\u001b[0m )\n\u001b[0;32m    462\u001b[0m roc_auc \u001b[38;5;241m=\u001b[39m auc(fpr, tpr)\n",
      "File \u001b[1;32m~\\AppData\\Roaming\\Python\\Python310\\site-packages\\sklearn\\metrics\\_plot\\base.py:89\u001b[0m, in \u001b[0;36m_get_response\u001b[1;34m(X, estimator, response_method, pos_label)\u001b[0m\n\u001b[0;32m     83\u001b[0m classification_error \u001b[38;5;241m=\u001b[39m (\n\u001b[0;32m     84\u001b[0m     \u001b[38;5;124m\"\u001b[39m\u001b[38;5;124mExpected \u001b[39m\u001b[38;5;124m'\u001b[39m\u001b[38;5;124mestimator\u001b[39m\u001b[38;5;124m'\u001b[39m\u001b[38;5;124m to be a binary classifier, but got\u001b[39m\u001b[38;5;124m\"\u001b[39m\n\u001b[0;32m     85\u001b[0m     \u001b[38;5;124mf\u001b[39m\u001b[38;5;124m\"\u001b[39m\u001b[38;5;124m \u001b[39m\u001b[38;5;132;01m{\u001b[39;00mestimator\u001b[38;5;241m.\u001b[39m\u001b[38;5;18m__class__\u001b[39m\u001b[38;5;241m.\u001b[39m\u001b[38;5;18m__name__\u001b[39m\u001b[38;5;132;01m}\u001b[39;00m\u001b[38;5;124m\"\u001b[39m\n\u001b[0;32m     86\u001b[0m )\n\u001b[0;32m     88\u001b[0m \u001b[38;5;28;01mif\u001b[39;00m \u001b[38;5;129;01mnot\u001b[39;00m is_classifier(estimator):\n\u001b[1;32m---> 89\u001b[0m     \u001b[38;5;28;01mraise\u001b[39;00m \u001b[38;5;167;01mValueError\u001b[39;00m(classification_error)\n\u001b[0;32m     91\u001b[0m prediction_method \u001b[38;5;241m=\u001b[39m _check_classifier_response_method(estimator, response_method)\n\u001b[0;32m     92\u001b[0m y_pred \u001b[38;5;241m=\u001b[39m prediction_method(X)\n",
      "\u001b[1;31mValueError\u001b[0m: Expected 'estimator' to be a binary classifier, but got Sequential"
     ]
    }
   ],
   "source": []
  },
  {
   "cell_type": "code",
   "execution_count": null,
   "id": "90199581",
   "metadata": {},
   "outputs": [],
   "source": []
  }
 ],
 "metadata": {
  "kernelspec": {
   "display_name": "Python 3 (ipykernel)",
   "language": "python",
   "name": "python3"
  },
  "language_info": {
   "codemirror_mode": {
    "name": "ipython",
    "version": 3
   },
   "file_extension": ".py",
   "mimetype": "text/x-python",
   "name": "python",
   "nbconvert_exporter": "python",
   "pygments_lexer": "ipython3",
   "version": "3.10.8"
  }
 },
 "nbformat": 4,
 "nbformat_minor": 5
}
